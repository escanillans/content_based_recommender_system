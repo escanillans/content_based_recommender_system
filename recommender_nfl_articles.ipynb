{
 "cells": [
  {
   "cell_type": "markdown",
   "metadata": {},
   "source": [
    "# Content-Based Recommender System\n",
    "Written by: Niko Escanilla\n",
    "\n",
    "- In this demo I create a content-based recommender system that is used to recommend NFL articles based on user input."
   ]
  },
  {
   "cell_type": "markdown",
   "metadata": {},
   "source": [
    "# Data\n",
    "\n",
    "- Data was extracted using BeautifulSoup package on Python.\n",
    "- Variables: id, article title, link to article\n",
    "- Number of articles: 1421"
   ]
  },
  {
   "cell_type": "code",
   "execution_count": 1,
   "metadata": {},
   "outputs": [],
   "source": [
    "import pandas as pd\n",
    "from sklearn.feature_extraction.text import TfidfVectorizer\n",
    "from sklearn.metrics.pairwise import cosine_similarity"
   ]
  },
  {
   "cell_type": "code",
   "execution_count": 2,
   "metadata": {},
   "outputs": [
    {
     "data": {
      "text/html": [
       "<div>\n",
       "<style scoped>\n",
       "    .dataframe tbody tr th:only-of-type {\n",
       "        vertical-align: middle;\n",
       "    }\n",
       "\n",
       "    .dataframe tbody tr th {\n",
       "        vertical-align: top;\n",
       "    }\n",
       "\n",
       "    .dataframe thead th {\n",
       "        text-align: right;\n",
       "    }\n",
       "</style>\n",
       "<table border=\"1\" class=\"dataframe\">\n",
       "  <thead>\n",
       "    <tr style=\"text-align: right;\">\n",
       "      <th></th>\n",
       "      <th>ID</th>\n",
       "      <th>Article Title</th>\n",
       "      <th>Link</th>\n",
       "    </tr>\n",
       "  </thead>\n",
       "  <tbody>\n",
       "    <tr>\n",
       "      <th>0</th>\n",
       "      <td>1</td>\n",
       "      <td>Uber driver: Glad to see discipline for Winston</td>\n",
       "      <td>http://www.espn.com/nfl/story/_/id/23948463/ub...</td>\n",
       "    </tr>\n",
       "    <tr>\n",
       "      <th>1</th>\n",
       "      <td>2</td>\n",
       "      <td>Eagles' Bradham banned 1 game for '16 assault</td>\n",
       "      <td>http://www.espn.com/nfl/story/_/id/23948484/ni...</td>\n",
       "    </tr>\n",
       "    <tr>\n",
       "      <th>2</th>\n",
       "      <td>3</td>\n",
       "      <td>Colts RB Turbin suspended for PED violation</td>\n",
       "      <td>http://www.espn.com/nfl/story/_/id/23947740/in...</td>\n",
       "    </tr>\n",
       "    <tr>\n",
       "      <th>3</th>\n",
       "      <td>4</td>\n",
       "      <td>McMahon expects to spend $500M on XFL</td>\n",
       "      <td>http://www.espn.com/nfl/story/_/id/23947732/vi...</td>\n",
       "    </tr>\n",
       "    <tr>\n",
       "      <th>4</th>\n",
       "      <td>5</td>\n",
       "      <td>Buccaneers release starting RG Sweezy</td>\n",
       "      <td>http://www.espn.com/nfl/story/_/id/23947723/ta...</td>\n",
       "    </tr>\n",
       "    <tr>\n",
       "      <th>5</th>\n",
       "      <td>6</td>\n",
       "      <td>NFL warns of training camp concussions</td>\n",
       "      <td>http://www.espn.com/nfl/story/_/id/23947051/nf...</td>\n",
       "    </tr>\n",
       "    <tr>\n",
       "      <th>6</th>\n",
       "      <td>7</td>\n",
       "      <td>Giants RB Barkley: I'll invest like Beast Mode</td>\n",
       "      <td>http://www.espn.com/nfl/story/_/id/23939975/ne...</td>\n",
       "    </tr>\n",
       "    <tr>\n",
       "      <th>7</th>\n",
       "      <td>8</td>\n",
       "      <td>Bucs QB Winston suspended 3 games by NFL</td>\n",
       "      <td>http://www.espn.com/nfl/story/_/id/23936785/ta...</td>\n",
       "    </tr>\n",
       "    <tr>\n",
       "      <th>8</th>\n",
       "      <td>9</td>\n",
       "      <td>Complaint: Jenkins' brother, victim had dispute</td>\n",
       "      <td>http://www.espn.com/nfl/story/_/id/23938976/br...</td>\n",
       "    </tr>\n",
       "    <tr>\n",
       "      <th>9</th>\n",
       "      <td>10</td>\n",
       "      <td>NFL fines Richardson for workplace misconduct</td>\n",
       "      <td>http://www.espn.com/nfl/story/_/id/23936331/nf...</td>\n",
       "    </tr>\n",
       "  </tbody>\n",
       "</table>\n",
       "</div>"
      ],
      "text/plain": [
       "   ID                                    Article Title  \\\n",
       "0   1  Uber driver: Glad to see discipline for Winston   \n",
       "1   2    Eagles' Bradham banned 1 game for '16 assault   \n",
       "2   3      Colts RB Turbin suspended for PED violation   \n",
       "3   4            McMahon expects to spend $500M on XFL   \n",
       "4   5            Buccaneers release starting RG Sweezy   \n",
       "5   6           NFL warns of training camp concussions   \n",
       "6   7   Giants RB Barkley: I'll invest like Beast Mode   \n",
       "7   8         Bucs QB Winston suspended 3 games by NFL   \n",
       "8   9  Complaint: Jenkins' brother, victim had dispute   \n",
       "9  10    NFL fines Richardson for workplace misconduct   \n",
       "\n",
       "                                                Link  \n",
       "0  http://www.espn.com/nfl/story/_/id/23948463/ub...  \n",
       "1  http://www.espn.com/nfl/story/_/id/23948484/ni...  \n",
       "2  http://www.espn.com/nfl/story/_/id/23947740/in...  \n",
       "3  http://www.espn.com/nfl/story/_/id/23947732/vi...  \n",
       "4  http://www.espn.com/nfl/story/_/id/23947723/ta...  \n",
       "5  http://www.espn.com/nfl/story/_/id/23947051/nf...  \n",
       "6  http://www.espn.com/nfl/story/_/id/23939975/ne...  \n",
       "7  http://www.espn.com/nfl/story/_/id/23936785/ta...  \n",
       "8  http://www.espn.com/nfl/story/_/id/23938976/br...  \n",
       "9  http://www.espn.com/nfl/story/_/id/23936331/nf...  "
      ]
     },
     "execution_count": 2,
     "metadata": {},
     "output_type": "execute_result"
    }
   ],
   "source": [
    "# read in dataset\n",
    "df = pd.read_csv(\"nfl_article_title_data.csv\")\n",
    "df.head(10)"
   ]
  },
  {
   "cell_type": "code",
   "execution_count": 3,
   "metadata": {},
   "outputs": [
    {
     "data": {
      "text/html": [
       "<div>\n",
       "<style scoped>\n",
       "    .dataframe tbody tr th:only-of-type {\n",
       "        vertical-align: middle;\n",
       "    }\n",
       "\n",
       "    .dataframe tbody tr th {\n",
       "        vertical-align: top;\n",
       "    }\n",
       "\n",
       "    .dataframe thead th {\n",
       "        text-align: right;\n",
       "    }\n",
       "</style>\n",
       "<table border=\"1\" class=\"dataframe\">\n",
       "  <thead>\n",
       "    <tr style=\"text-align: right;\">\n",
       "      <th></th>\n",
       "      <th>ID</th>\n",
       "      <th>Article Title</th>\n",
       "      <th>Link</th>\n",
       "    </tr>\n",
       "  </thead>\n",
       "  <tbody>\n",
       "    <tr>\n",
       "      <th>1417</th>\n",
       "      <td>1418</td>\n",
       "      <td>Source: Seattle not planning to trade Thomas</td>\n",
       "      <td>http://www.espn.com/nfl/story/_/id/24547049/se...</td>\n",
       "    </tr>\n",
       "    <tr>\n",
       "      <th>1418</th>\n",
       "      <td>1419</td>\n",
       "      <td>Bengals cut DE Johnson, put QB Barkley on IR</td>\n",
       "      <td>http://www.espn.com/nfl/story/_/id/24547346/ci...</td>\n",
       "    </tr>\n",
       "    <tr>\n",
       "      <th>1419</th>\n",
       "      <td>1420</td>\n",
       "      <td>Panthers acquire Robinson from Lions to help OL</td>\n",
       "      <td>http://www.espn.com/nfl/story/_/id/24544622/ca...</td>\n",
       "    </tr>\n",
       "    <tr>\n",
       "      <th>1420</th>\n",
       "      <td>1421</td>\n",
       "      <td>Saints cut slew of vets, including WRs Floyd, ...</td>\n",
       "      <td>http://www.espn.com/nfl/story/_/id/24538571/ne...</td>\n",
       "    </tr>\n",
       "    <tr>\n",
       "      <th>1421</th>\n",
       "      <td>1422</td>\n",
       "      <td>Chicago Bears Khalil Mack trade</td>\n",
       "      <td></td>\n",
       "    </tr>\n",
       "  </tbody>\n",
       "</table>\n",
       "</div>"
      ],
      "text/plain": [
       "        ID                                      Article Title  \\\n",
       "1417  1418       Source: Seattle not planning to trade Thomas   \n",
       "1418  1419       Bengals cut DE Johnson, put QB Barkley on IR   \n",
       "1419  1420    Panthers acquire Robinson from Lions to help OL   \n",
       "1420  1421  Saints cut slew of vets, including WRs Floyd, ...   \n",
       "1421  1422                    Chicago Bears Khalil Mack trade   \n",
       "\n",
       "                                                   Link  \n",
       "1417  http://www.espn.com/nfl/story/_/id/24547049/se...  \n",
       "1418  http://www.espn.com/nfl/story/_/id/24547346/ci...  \n",
       "1419  http://www.espn.com/nfl/story/_/id/24544622/ca...  \n",
       "1420  http://www.espn.com/nfl/story/_/id/24538571/ne...  \n",
       "1421                                                     "
      ]
     },
     "execution_count": 3,
     "metadata": {},
     "output_type": "execute_result"
    }
   ],
   "source": [
    "# get input\n",
    "user_input = \"Chicago Bears Khalil Mack trade\"\n",
    "new_input = [df.shape[0]+1, user_input, '']\n",
    "df.loc[df.shape[0]] = new_input\n",
    "df.tail()"
   ]
  },
  {
   "cell_type": "code",
   "execution_count": 4,
   "metadata": {},
   "outputs": [],
   "source": [
    "# create object to convert collection of raw text docs to a matrix of TF-IDF features\n",
    "tf = TfidfVectorizer(analyzer = 'word', ngram_range=(1,3),\n",
    "                    min_df = 0, stop_words = 'english')"
   ]
  },
  {
   "cell_type": "code",
   "execution_count": 5,
   "metadata": {},
   "outputs": [],
   "source": [
    "# learn vocab and idf, return term-doc matrix\n",
    "tfidf_matrix = tf.fit_transform(df['Article Title'])\n",
    "\n",
    "# compute similarities\n",
    "cos_sim = cosine_similarity(tfidf_matrix, tfidf_matrix)"
   ]
  },
  {
   "cell_type": "code",
   "execution_count": 6,
   "metadata": {},
   "outputs": [],
   "source": [
    "# save results as a dictionary\n",
    "results = {}\n",
    "\n",
    "# go through each row of df\n",
    "for idx, row in df.iterrows():\n",
    "    # store similar ids based on cosine similarity, then sort in ascending order\n",
    "    similar_indices = cos_sim[idx].argsort(kind='quicksort')[:-20:-1]\n",
    "    \n",
    "    # get 5 most similar articles\n",
    "    similar_items = [(cos_sim[idx][i], df['ID'][i]) for i in similar_indices]\n",
    "    results[row['ID']] = similar_items[1:]  "
   ]
  },
  {
   "cell_type": "code",
   "execution_count": 7,
   "metadata": {},
   "outputs": [],
   "source": [
    "# this function is going to return a row that matches the id\n",
    "def item(id):\n",
    "    return df.loc[df['ID'] == id]['Article Title'].tolist()[0]\n",
    "\n",
    "# this function is going to return a row that matches the id\n",
    "def itemLink(id):\n",
    "    return df.loc[df['ID'] == id]['Link'].tolist()[0]\n",
    "\n",
    "\n",
    "# this function returns the most similar articles\n",
    "# input: id = id of the book, num = number of similar books to return\n",
    "# output: most similar books\n",
    "def recommend(id, num):\n",
    "    if (num == 0):\n",
    "        print(\"You haven't said anything, dawg! I can't recommend anything if you didn't say something.\")\n",
    "    elif (num==1):\n",
    "        print(\"Here is \" + str(num) + \" article related to your input: \" + item(id))\n",
    "    else :\n",
    "        print(\"Here are \" + str(num) + \" articles related to your input: \" + item(id))\n",
    "\n",
    "    print(\"----------------------------------------------------------\")\n",
    "    records = results[id][:num]\n",
    "    for record in records:\n",
    "        print(item(record[1]) + \" (score:\" + str(record[0]) + \")\")\n",
    "        print(\"Link: \" + str(itemLink(record[1])) + \"\\n\")"
   ]
  },
  {
   "cell_type": "code",
   "execution_count": 8,
   "metadata": {},
   "outputs": [
    {
     "name": "stdout",
     "output_type": "stream",
     "text": [
      "Here are 5 articles related to your input: Chicago Bears Khalil Mack trade\n",
      "----------------------------------------------------------\n",
      "Barnwell: Answering biggest questions on Khalil Mack trade (score:0.36973961256054655)\n",
      "Link: http://www.espn.com/nfl/story/_/id/24544109/answering-biggest-questions-khalil-mack-trade-chicago-bears-oakland-raiders\n",
      "\n",
      "Chicago Bears depth chart (score:0.281174157381211)\n",
      "Link: http://www.espn.com/nfl/story/_/id/24492615/chicago-bears-depth-chart\n",
      "\n",
      "Carr: Raiders players over shock of Mack trade (score:0.161985614033348)\n",
      "Link: http://www.espn.com/nfl/story/_/id/24569314/derek-carr-oakland-raiders-players-shock-khalil-mack-trade\n",
      "\n",
      "Source: Bears give Mack record deal after trade (score:0.12802558232017894)\n",
      "Link: http://www.espn.com/nfl/story/_/id/24543080/chicago-bears-reach-agreement-trade-khalil-mack-oakland-raiders\n",
      "\n",
      "Bears will be 'smart' about Mack for Week 1 (score:0.10978968322631111)\n",
      "Link: http://www.espn.com/nfl/story/_/id/24559428/chicago-bears-aggressive-smart-getting-khalil-mack-ready-week-1\n",
      "\n"
     ]
    }
   ],
   "source": [
    "# recommend \n",
    "recommend(df.shape[0], 5)"
   ]
  },
  {
   "cell_type": "code",
   "execution_count": 9,
   "metadata": {},
   "outputs": [],
   "source": [
    "# remove user input\n",
    "df = df.drop(df.index[len(df)-1])"
   ]
  },
  {
   "cell_type": "code",
   "execution_count": null,
   "metadata": {},
   "outputs": [],
   "source": []
  }
 ],
 "metadata": {
  "kernelspec": {
   "display_name": "Python 3",
   "language": "python",
   "name": "python3"
  },
  "language_info": {
   "codemirror_mode": {
    "name": "ipython",
    "version": 3
   },
   "file_extension": ".py",
   "mimetype": "text/x-python",
   "name": "python",
   "nbconvert_exporter": "python",
   "pygments_lexer": "ipython3",
   "version": "3.6.5"
  }
 },
 "nbformat": 4,
 "nbformat_minor": 2
}
